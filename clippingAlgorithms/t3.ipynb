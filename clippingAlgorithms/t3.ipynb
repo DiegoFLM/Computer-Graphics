{
 "cells": [
  {
   "cell_type": "code",
   "execution_count": null,
   "metadata": {},
   "outputs": [],
   "source": []
  },
  {
   "attachments": {},
   "cell_type": "markdown",
   "metadata": {},
   "source": [
    "# Cyrus-Beck"
   ]
  },
  {
   "attachments": {},
   "cell_type": "markdown",
   "metadata": {},
   "source": [
    "## Description"
   ]
  },
  {
   "attachments": {},
   "cell_type": "markdown",
   "metadata": {},
   "source": [
    "The Cyrus-Beck algorithm is a line clipping algorithm that can be used to determine the portion of a line that lies within a specified boundary. In Python, you can implement this algorithm using the following steps:\n",
    "\n",
    "    Define the boundary of the clip window as a list of points in the form [(x1, y1), (x2, y2), ..., (xn, yn)].\n",
    "\n",
    "    Define the line to be clipped as a pair of points (x1, y1) and (x2, y2).\n",
    "\n",
    "    For each edge of the clip window, compute the normal vector to the edge. The normal vector is a vector that is perpendicular to the edge and points outward from the clip window.\n",
    "\n",
    "    For each normal vector, compute the dot product between the normal vector and the vector representing the line. If the dot product is positive, the line is outside the clip window for that edge. If the dot product is negative, the line is inside the clip window for that edge.\n",
    "\n",
    "    If the line is outside the clip window for any edge, clip the line at that edge using the intersection point between the line and the edge.\n",
    "\n",
    "    Repeat steps 3-5 for each edge of the clip window until the line is completely within the clip window or there are no more edges to consider."
   ]
  },
  {
   "attachments": {},
   "cell_type": "markdown",
   "metadata": {},
   "source": [
    "## code"
   ]
  },
  {
   "cell_type": "code",
   "execution_count": null,
   "metadata": {},
   "outputs": [],
   "source": [
    "# Define the clip window boundary\n",
    "clip_window = [(0, 0), (100, 0), (100, 100), (0, 100)]\n",
    "\n",
    "# Define the line to be clipped\n",
    "line = [(10, 10), (110, 110)]\n",
    "\n",
    "# Loop through each edge of the clip window\n",
    "for i in range(len(clip_window)):\n",
    "    # Get the current edge\n",
    "    edge = (clip_window[i], clip_window[(i + 1) % len(clip_window)])\n",
    "\n",
    "    # Compute the normal vector to the edge\n",
    "    normal = (edge[1][1] - edge[0][1], edge[0][0] - edge[1][0])\n",
    "\n",
    "    # Compute the dot product between the normal vector and the line vector\n",
    "    dp = normal[0] * (line[1][0] - line[0][0]) + normal[1] * (line[1][1] - line[0][1])\n",
    "\n",
    "    # If the dot product is positive, the line is outside the clip window\n",
    "    if dp > 0:\n",
    "        # Compute the intersection point between the line and the edge\n",
    "        t = normal[0] * (edge[0][0] - line[0][0]) + normal[1] * (edge[0][1] - line[0][1])\n",
    "        t = t / dp\n",
    "\n",
    "        # If t is less than 0, the intersection point is outside the line\n",
    "        if t < 0:\n",
    "            continue\n",
    "\n",
    "        # If t is greater than 1, the intersection point is outside the line\n",
    "        if t > 1:\n",
    "            continue\n",
    "\n",
    "        # Compute the coordinates of the intersection point\n",
    "        intersection = (line[0][0] + t * (line[1][0] - line[0][0]), line[0][1] + t * (line[1][1] - line[0][1]))\n",
    "\n",
    "        # Update the line with the intersection point as one of its endpoints\n",
    "        if dp > 0:\n",
    "            line = [intersection, line[1]]\n",
    "    else:\n",
    "        line = [line[0], intersection]"
   ]
  },
  {
   "attachments": {},
   "cell_type": "markdown",
   "metadata": {},
   "source": [
    "This code checks if the dot product between the normal vector and the line vector is positive. If it is, it means that the line is outside the clip window for that edge. The code then computes the intersection point between the line and the edge, and uses it to update the line by replacing one of its endpoints with the intersection point. This ensures that the line is clipped at the edge of the clip window."
   ]
  }
 ],
 "metadata": {
  "kernelspec": {
   "display_name": "ML1",
   "language": "python",
   "name": "python3"
  },
  "language_info": {
   "name": "python",
   "version": "3.10.8 | packaged by conda-forge | (main, Nov 22 2022, 08:23:14) [GCC 10.4.0]"
  },
  "orig_nbformat": 4,
  "vscode": {
   "interpreter": {
    "hash": "bf8d3195a1dc94dce7edf8099c3c00284f7f7043a1cd94c7847c6be598cb455a"
   }
  }
 },
 "nbformat": 4,
 "nbformat_minor": 2
}
