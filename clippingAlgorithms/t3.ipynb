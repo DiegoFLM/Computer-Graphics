{
 "cells": [
  {
   "attachments": {},
   "cell_type": "markdown",
   "metadata": {},
   "source": [
    "# Utils"
   ]
  },
  {
   "cell_type": "code",
   "execution_count": 120,
   "metadata": {},
   "outputs": [],
   "source": [
    "import numpy as np\n",
    "import matplotlib.pyplot as plt\n",
    "from matplotlib.patches import Rectangle\n"
   ]
  },
  {
   "attachments": {},
   "cell_type": "markdown",
   "metadata": {},
   "source": [
    "## getLinePoints()"
   ]
  },
  {
   "cell_type": "code",
   "execution_count": 121,
   "metadata": {},
   "outputs": [],
   "source": [
    "def getLinePoints(start, end):\n",
    "    \"\"\"Bresenham's Line Algorithm\n",
    "    Produces a list of tuples from start and end\n",
    "    http://www.roguebasin.com/index.php?title=Bresenham%27s_Line_Algorithm\n",
    "    \"\"\"\n",
    "    # Setup initial conditions\n",
    "    x1, y1 = start\n",
    "    x2, y2 = end\n",
    "    dx = x2 - x1\n",
    "    dy = y2 - y1\n",
    "\n",
    "    # Determine how steep the line is\n",
    "    is_steep = abs(dy) > abs(dx)\n",
    "\n",
    "    # Rotate line\n",
    "    if is_steep:\n",
    "        x1, y1 = y1, x1\n",
    "        x2, y2 = y2, x2\n",
    "\n",
    "    # Swap start and end points if necessary and store swap state\n",
    "    swapped = False\n",
    "    if x1 > x2:\n",
    "        x1, x2 = x2, x1\n",
    "        y1, y2 = y2, y1\n",
    "        swapped = True\n",
    "\n",
    "    # Recalculate differentials\n",
    "    dx = x2 - x1\n",
    "    dy = y2 - y1\n",
    "\n",
    "    # Calculate error\n",
    "    error = int(dx / 2.0)\n",
    "    ystep = 1 if y1 < y2 else -1\n",
    "\n",
    "    # Iterate over bounding box generating points between start and end\n",
    "    y = y1\n",
    "    points = []\n",
    "    for x in range(x1, x2 + 1):\n",
    "        coord = (y, x) if is_steep else (x, y)\n",
    "        points.append(coord)\n",
    "        error -= abs(dy)\n",
    "        if error < 0:\n",
    "            y += ystep\n",
    "            error += dx\n",
    "\n",
    "    # Reverse the list if the coordinates were swapped\n",
    "    if swapped:\n",
    "        points.reverse()\n",
    "    return points"
   ]
  },
  {
   "cell_type": "code",
   "execution_count": 122,
   "metadata": {},
   "outputs": [
    {
     "data": {
      "text/plain": [
       "[(0, 0), (1, 1), (1, 2), (2, 3), (3, 4)]"
      ]
     },
     "execution_count": 122,
     "metadata": {},
     "output_type": "execute_result"
    }
   ],
   "source": [
    "getLinePoints((0,0), (3,4))"
   ]
  },
  {
   "attachments": {},
   "cell_type": "markdown",
   "metadata": {},
   "source": [
    "## plotPixels()"
   ]
  },
  {
   "cell_type": "code",
   "execution_count": 130,
   "metadata": {},
   "outputs": [],
   "source": [
    "def plotPixels(x, y, xRange = (-10, 10), yRange = (-10, 10),figureSize = (4,4), \n",
    "                _color = 'black', title = None):\n",
    "    # Extract the x and y coordinates from the pixels list\n",
    "    # x, y = zip(*pixels)\n",
    "    \n",
    "    fig, ax = plt.subplots()\n",
    "    plt.xlim(xRange[0], xRange[1])\n",
    "    plt.ylim(yRange[0], yRange[1])\n",
    "    plt.grid(alpha = 0.3)\n",
    "    # fig.set_size_inches(figureSize[0], figureSize[1])\n",
    "    fig.set_figwidth(figureSize[0])\n",
    "    fig.set_figheight(figureSize[1])\n",
    "    # Add labels and show the plot\n",
    "    plt.xlabel('X')\n",
    "    plt.ylabel('Y')\n",
    "\n",
    "    for i in range(len(x)):\n",
    "        ax.add_patch(Rectangle((x[i]-0.5,y[i]-0.5), 1,1,\n",
    "        # ax.add_patch(Rectangle((x[i],y[i]), 1,1, \n",
    "        facecolor=_color, \n",
    "        edgecolor='white',\n",
    "        ))\n",
    "\n",
    "    #plt.show()\n",
    "    return fig, ax"
   ]
  },
  {
   "attachments": {},
   "cell_type": "markdown",
   "metadata": {},
   "source": [
    "# Viewport & Points"
   ]
  },
  {
   "cell_type": "code",
   "execution_count": 149,
   "metadata": {},
   "outputs": [
    {
     "data": {
      "image/png": "[encoded data removed]",
      "text/plain": [
       "<Figure size 600x600 with 1 Axes>"
      ]
     },
     "metadata": {},
     "output_type": "display_data"
    }
   ],
   "source": [
    "\n",
    "\n",
    "eii = [5,5]\n",
    "esd = [25, 10]\n",
    "\n",
    "p5 = [5, 6]\n",
    "p6 = [26, 8]\n",
    "p7 = [24,9]\n",
    "p8 = [23, 11]\n",
    "\n",
    "points = [p5, p6, p7, p8]\n",
    "\n",
    "x = [p5[0], p6[0], p7[0], p8[0]]\n",
    "y = [p5[1], p6[1], p7[1], p8[1]]\n",
    "\n",
    "fig, ax = plotPixels(x, y, xRange = (0,30), yRange = (0,30), _color = 'blue', figureSize=(6,6))\n",
    "\n",
    "\n",
    "#ax.add_patch(Rectangle((eii[0]-0.5,eii[1]-0.5), esd[0]-eii[0], esd[1]-eii[1], facecolor='none', edgecolor='red', linewidth=2))\n",
    "ax.add_patch(Rectangle((eii[0]-0.5,eii[1]+0.5), esd[0]-eii[0], esd[1]-eii[1], facecolor='none', edgecolor='red', linewidth=2))\n",
    "\n",
    "\n",
    "\n",
    "plt.show()"
   ]
  },
  {
   "attachments": {},
   "cell_type": "markdown",
   "metadata": {},
   "source": [
    "# Cyrus-Beck"
   ]
  },
  {
   "attachments": {},
   "cell_type": "markdown",
   "metadata": {},
   "source": [
    "## Description"
   ]
  },
  {
   "attachments": {},
   "cell_type": "markdown",
   "metadata": {},
   "source": [
    "The Cyrus-Beck algorithm is a line clipping algorithm that can be used to determine the portion of a line that lies within a specified boundary. In Python, you can implement this algorithm using the following steps:\n",
    "\n",
    "    Define the boundary of the clip window as a list of points in the form [(x1, y1), (x2, y2), ..., (xn, yn)].\n",
    "\n",
    "    Define the line to be clipped as a pair of points (x1, y1) and (x2, y2).\n",
    "\n",
    "    For each edge of the clip window, compute the normal vector to the edge. The normal vector is a vector that is perpendicular to the edge and points outward from the clip window.\n",
    "\n",
    "    For each normal vector, compute the dot product between the normal vector and the vector representing the line. If the dot product is positive, the line is outside the clip window for that edge. If the dot product is negative, the line is inside the clip window for that edge.\n",
    "\n",
    "    If the line is outside the clip window for any edge, clip the line at that edge using the intersection point between the line and the edge.\n",
    "\n",
    "    Repeat steps 3-5 for each edge of the clip window until the line is completely within the clip window or there are no more edges to consider."
   ]
  },
  {
   "attachments": {},
   "cell_type": "markdown",
   "metadata": {},
   "source": [
    "## code"
   ]
  },
  {
   "cell_type": "code",
   "execution_count": 127,
   "metadata": {},
   "outputs": [
    {
     "name": "stdout",
     "output_type": "stream",
     "text": [
      "0:  [(100.0, 100.0), (110, 110)]\n",
      "0:  [(100.0, 100.0), (110, 110)]\n"
     ]
    }
   ],
   "source": [
    "# Define the clip window boundary\n",
    "clip_window = [(0, 0), (100, 0), (100, 100), (0, 100)]\n",
    "\n",
    "# Define the line to be clipped\n",
    "line = [(10, 10), (110, 110)]\n",
    "\n",
    "# Loop through each edge of the clip window\n",
    "for i in range(len(clip_window)):\n",
    "    # Get the current edge\n",
    "    edge = (clip_window[i], clip_window[(i + 1) % len(clip_window)])\n",
    "\n",
    "    # Compute the normal vector to the edge\n",
    "    normal = (edge[1][1] - edge[0][1], edge[0][0] - edge[1][0])\n",
    "\n",
    "    # Compute the dot product between the normal vector and the line vector\n",
    "    dp = normal[0] * (line[1][0] - line[0][0]) + normal[1] * (line[1][1] - line[0][1])\n",
    "\n",
    "    # If the dot product is positive, the line is outside the clip window\n",
    "    if dp > 0:\n",
    "        # Compute the intersection point between the line and the edge\n",
    "        t = normal[0] * (edge[0][0] - line[0][0]) + normal[1] * (edge[0][1] - line[0][1])\n",
    "        t = t / dp\n",
    "\n",
    "        # If t is less than 0, the intersection point is outside the line\n",
    "        if t < 0:\n",
    "            continue\n",
    "\n",
    "        # If t is greater than 1, the intersection point is outside the line\n",
    "        if t > 1:\n",
    "            continue\n",
    "\n",
    "        # Compute the coordinates of the intersection point\n",
    "        intersection = (line[0][0] + t * (line[1][0] - line[0][0]), line[0][1] + t * (line[1][1] - line[0][1]))\n",
    "\n",
    "        # Update the line with the intersection point as one of its endpoints\n",
    "        if dp > 0:\n",
    "            line = [intersection, line[1]]\n",
    "            print(\"0: \",line)\n",
    "        else:\n",
    "            line = [line[0], intersection]\n",
    "            print(\"1: \",line)\n"
   ]
  },
  {
   "cell_type": "code",
   "execution_count": null,
   "metadata": {},
   "outputs": [],
   "source": [
    "# Define the clip window boundary\n",
    "#clip_window = [(0, 0), (100, 0), (100, 100), (0, 100)]\n",
    "\n",
    "# Define the line to be clipped\n",
    "#line = [(10, 10), (110, 110)]\n",
    "\n",
    "def cyrusBeck(line, clipWindow):\n",
    "\n",
    "    # Loop through each edge of the clip window\n",
    "    for i in range(len(clip_window)):\n",
    "        # Get the current edge\n",
    "        edge = (clip_window[i], clip_window[(i + 1) % len(clip_window)])\n",
    "\n",
    "        # Compute the normal vector to the edge\n",
    "        normal = (edge[1][1] - edge[0][1], edge[0][0] - edge[1][0])\n",
    "\n",
    "        # Compute the dot product between the normal vector and the line vector\n",
    "        dp = normal[0] * (line[1][0] - line[0][0]) + normal[1] * (line[1][1] - line[0][1])\n",
    "\n",
    "        # If the dot product is positive, the line is outside the clip window\n",
    "        if dp > 0:\n",
    "            # Compute the intersection point between the line and the edge\n",
    "            t = normal[0] * (edge[0][0] - line[0][0]) + normal[1] * (edge[0][1] - line[0][1])\n",
    "            t = t / dp\n",
    "\n",
    "            # If t is less than 0, the intersection point is outside the line\n",
    "            if t < 0:\n",
    "                continue\n",
    "\n",
    "            # If t is greater than 1, the intersection point is outside the line\n",
    "            if t > 1:\n",
    "                continue\n",
    "\n",
    "            # Compute the coordinates of the intersection point\n",
    "            intersection = (line[0][0] + t * (line[1][0] - line[0][0]), line[0][1] + t * (line[1][1] - line[0][1]))\n",
    "\n",
    "            # Update the line with the intersection point as one of its endpoints\n",
    "            if dp > 0:\n",
    "                line = [intersection, line[1]]\n",
    "                print(line)\n",
    "            else:\n",
    "                line = [line[0], intersection]\n",
    "                print(line)\n"
   ]
  },
  {
   "attachments": {},
   "cell_type": "markdown",
   "metadata": {},
   "source": [
    "This code checks if the dot product between the normal vector and the line vector is positive. If it is, it means that the line is outside the clip window for that edge. The code then computes the intersection point between the line and the edge, and uses it to update the line by replacing one of its endpoints with the intersection point. This ensures that the line is clipped at the edge of the clip window."
   ]
  },
  {
   "attachments": {},
   "cell_type": "markdown",
   "metadata": {},
   "source": [
    "## Graphics"
   ]
  },
  {
   "cell_type": "code",
   "execution_count": 132,
   "metadata": {},
   "outputs": [
    {
     "data": {
      "text/plain": [
       "<matplotlib.patches.Rectangle at 0x7f1865cb7ac0>"
      ]
     },
     "execution_count": 132,
     "metadata": {},
     "output_type": "execute_result"
    },
    {
     "data": {
      "image/png": "[encoded data removed]",
      "text/plain": [
       "<Figure size 600x600 with 1 Axes>"
      ]
     },
     "metadata": {},
     "output_type": "display_data"
    }
   ],
   "source": [
    "linePoints = getLinePoints((100, 100), (110, 110))\n",
    "#x = [0, 50, 1, 2]\n",
    "#y = [0, 71, 0, 3]\n",
    "\n",
    "x, y = zip(*linePoints)\n",
    "\n",
    "\n",
    "fig, ax = plotPixels(x, y, xRange = (90,120), yRange = (90,120), _color = 'blue', figureSize=(6,6))\n",
    "ax.add_patch(Rectangle((0,0), 100,100, facecolor='none', edgecolor='black', linewidth=2))"
   ]
  },
  {
   "attachments": {},
   "cell_type": "markdown",
   "metadata": {},
   "source": [
    "## Tests"
   ]
  }
 ],
 "metadata": {
  "kernelspec": {
   "display_name": "ML1",
   "language": "python",
   "name": "python3"
  },
  "language_info": {
   "codemirror_mode": {
    "name": "ipython",
    "version": 3
   },
   "file_extension": ".py",
   "mimetype": "text/x-python",
   "name": "python",
   "nbconvert_exporter": "python",
   "pygments_lexer": "ipython3",
   "version": "3.10.8"
  },
  "orig_nbformat": 4,
  "vscode": {
   "interpreter": {
    "hash": "bf8d3195a1dc94dce7edf8099c3c00284f7f7043a1cd94c7847c6be598cb455a"
   }
  }
 },
 "nbformat": 4,
 "nbformat_minor": 2
}
